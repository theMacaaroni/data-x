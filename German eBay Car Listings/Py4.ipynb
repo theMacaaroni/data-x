{
 "cells": [
  {
   "cell_type": "markdown",
   "metadata": {
    "collapsed": true
   },
   "source": [
    "# Exploring eBay Car Sales Data\n",
    "## Introduction\n",
    "The goal of this project will be to clean and analyze a dataset of used cars from the *classifieds* section of the German eBay website.\n",
    "\n",
    "The dataset was originally scraped and uploaded to Kaggle by the user **orgesleka** but it is no longer available there. Instead, you can find it [here](https://data.world/data-society/used-cars-data).\n",
    "\n",
    "A slice of 50,000 rows was sampled and dirtied intentionally by the online bootcamp *Dataquest* to resemble a real world scraped dataset.\n",
    "\n",
    "### Dataset Description\n",
    "\n",
    "`dateCrawled` - When this ad was first crawled. All field-values are taken from this date.\n",
    "\n",
    "`name` - Name of the car.\n",
    "\n",
    "`seller` - Whether the seller is private or a dealer.\n",
    "\n",
    "`offerType` - The type of listing\n",
    "\n",
    "`price` - The price on the ad to sell the car.\n",
    "\n",
    "`abtest` - Whether the listing is included in an A/B test.\n",
    "\n",
    "`vehicleType` - The vehicle Type.\n",
    "\n",
    "`yearOfRegistration` - The year in which the car was first registered.\n",
    "\n",
    "`gearbox` - The transmission type.\n",
    "\n",
    "`powerPS` - The power of the car in PS.\n",
    "\n",
    "`model` - The car model name.\n",
    "\n",
    "`kilometer` - How many kilometers the car has driven.\n",
    "\n",
    "`monthOfRegistration` - The month in which the car was first registered.\n",
    "\n",
    "`fuelType` - What type of fuel the car uses.\n",
    "\n",
    "`brand` - The brand of the car.\n",
    "\n",
    "`notRepairedDamage` - If the car has a damage which is not yet repaired.\n",
    "\n",
    "`dateCreated` - The date on which the eBay listing was created.\n",
    "\n",
    "`nrOfPictures` - The number of pictures in the ad.\n",
    "\n",
    "`postalCode` - The postal code for the location of the vehicle.\n",
    "\n",
    "`lastSeenOnline` - When the crawler saw this ad last online."
   ]
  },
  {
   "cell_type": "markdown",
   "metadata": {},
   "source": [
    "## Read Data into Dataframe\n",
    "Let's begin by importing the pandas, numpy and matplotlib.pyplot libraries."
   ]
  },
  {
   "cell_type": "code",
   "execution_count": 1,
   "metadata": {},
   "outputs": [],
   "source": [
    "import pandas as pd\n",
    "import numpy as np\n",
    "import matplotlib.pyplot as plt"
   ]
  },
  {
   "cell_type": "markdown",
   "metadata": {},
   "source": [
    "Read in the `'autos.csv'` file into a dataframe and print summary information using `.info()` and `.describe()`."
   ]
  },
  {
   "cell_type": "code",
   "execution_count": 2,
   "metadata": {
    "scrolled": true
   },
   "outputs": [
    {
     "name": "stdout",
     "output_type": "stream",
     "text": [
      "<class 'pandas.core.frame.DataFrame'>\n",
      "RangeIndex: 50000 entries, 0 to 49999\n",
      "Data columns (total 20 columns):\n",
      " #   Column               Non-Null Count  Dtype \n",
      "---  ------               --------------  ----- \n",
      " 0   dateCrawled          50000 non-null  object\n",
      " 1   name                 50000 non-null  object\n",
      " 2   seller               50000 non-null  object\n",
      " 3   offerType            50000 non-null  object\n",
      " 4   price                50000 non-null  object\n",
      " 5   abtest               50000 non-null  object\n",
      " 6   vehicleType          44905 non-null  object\n",
      " 7   yearOfRegistration   50000 non-null  int64 \n",
      " 8   gearbox              47320 non-null  object\n",
      " 9   powerPS              50000 non-null  int64 \n",
      " 10  model                47242 non-null  object\n",
      " 11  odometer             50000 non-null  object\n",
      " 12  monthOfRegistration  50000 non-null  int64 \n",
      " 13  fuelType             45518 non-null  object\n",
      " 14  brand                50000 non-null  object\n",
      " 15  notRepairedDamage    40171 non-null  object\n",
      " 16  dateCreated          50000 non-null  object\n",
      " 17  nrOfPictures         50000 non-null  int64 \n",
      " 18  postalCode           50000 non-null  int64 \n",
      " 19  lastSeen             50000 non-null  object\n",
      "dtypes: int64(5), object(15)\n",
      "memory usage: 7.6+ MB\n"
     ]
    },
    {
     "data": {
      "text/html": [
       "<div>\n",
       "<style scoped>\n",
       "    .dataframe tbody tr th:only-of-type {\n",
       "        vertical-align: middle;\n",
       "    }\n",
       "\n",
       "    .dataframe tbody tr th {\n",
       "        vertical-align: top;\n",
       "    }\n",
       "\n",
       "    .dataframe thead th {\n",
       "        text-align: right;\n",
       "    }\n",
       "</style>\n",
       "<table border=\"1\" class=\"dataframe\">\n",
       "  <thead>\n",
       "    <tr style=\"text-align: right;\">\n",
       "      <th></th>\n",
       "      <th>dateCrawled</th>\n",
       "      <th>name</th>\n",
       "      <th>seller</th>\n",
       "      <th>offerType</th>\n",
       "      <th>price</th>\n",
       "      <th>abtest</th>\n",
       "      <th>vehicleType</th>\n",
       "      <th>yearOfRegistration</th>\n",
       "      <th>gearbox</th>\n",
       "      <th>powerPS</th>\n",
       "      <th>model</th>\n",
       "      <th>odometer</th>\n",
       "      <th>monthOfRegistration</th>\n",
       "      <th>fuelType</th>\n",
       "      <th>brand</th>\n",
       "      <th>notRepairedDamage</th>\n",
       "      <th>dateCreated</th>\n",
       "      <th>nrOfPictures</th>\n",
       "      <th>postalCode</th>\n",
       "      <th>lastSeen</th>\n",
       "    </tr>\n",
       "  </thead>\n",
       "  <tbody>\n",
       "    <tr>\n",
       "      <th>count</th>\n",
       "      <td>50000</td>\n",
       "      <td>50000</td>\n",
       "      <td>50000</td>\n",
       "      <td>50000</td>\n",
       "      <td>50000</td>\n",
       "      <td>50000</td>\n",
       "      <td>44905</td>\n",
       "      <td>50000.000000</td>\n",
       "      <td>47320</td>\n",
       "      <td>50000.000000</td>\n",
       "      <td>47242</td>\n",
       "      <td>50000</td>\n",
       "      <td>50000.000000</td>\n",
       "      <td>45518</td>\n",
       "      <td>50000</td>\n",
       "      <td>40171</td>\n",
       "      <td>50000</td>\n",
       "      <td>50000.0</td>\n",
       "      <td>50000.000000</td>\n",
       "      <td>50000</td>\n",
       "    </tr>\n",
       "    <tr>\n",
       "      <th>unique</th>\n",
       "      <td>48213</td>\n",
       "      <td>38754</td>\n",
       "      <td>2</td>\n",
       "      <td>2</td>\n",
       "      <td>2357</td>\n",
       "      <td>2</td>\n",
       "      <td>8</td>\n",
       "      <td>NaN</td>\n",
       "      <td>2</td>\n",
       "      <td>NaN</td>\n",
       "      <td>245</td>\n",
       "      <td>13</td>\n",
       "      <td>NaN</td>\n",
       "      <td>7</td>\n",
       "      <td>40</td>\n",
       "      <td>2</td>\n",
       "      <td>76</td>\n",
       "      <td>NaN</td>\n",
       "      <td>NaN</td>\n",
       "      <td>39481</td>\n",
       "    </tr>\n",
       "    <tr>\n",
       "      <th>top</th>\n",
       "      <td>2016-04-02 11:37:04</td>\n",
       "      <td>Ford_Fiesta</td>\n",
       "      <td>privat</td>\n",
       "      <td>Angebot</td>\n",
       "      <td>$0</td>\n",
       "      <td>test</td>\n",
       "      <td>limousine</td>\n",
       "      <td>NaN</td>\n",
       "      <td>manuell</td>\n",
       "      <td>NaN</td>\n",
       "      <td>golf</td>\n",
       "      <td>150,000km</td>\n",
       "      <td>NaN</td>\n",
       "      <td>benzin</td>\n",
       "      <td>volkswagen</td>\n",
       "      <td>nein</td>\n",
       "      <td>2016-04-03 00:00:00</td>\n",
       "      <td>NaN</td>\n",
       "      <td>NaN</td>\n",
       "      <td>2016-04-07 06:17:27</td>\n",
       "    </tr>\n",
       "    <tr>\n",
       "      <th>freq</th>\n",
       "      <td>3</td>\n",
       "      <td>78</td>\n",
       "      <td>49999</td>\n",
       "      <td>49999</td>\n",
       "      <td>1421</td>\n",
       "      <td>25756</td>\n",
       "      <td>12859</td>\n",
       "      <td>NaN</td>\n",
       "      <td>36993</td>\n",
       "      <td>NaN</td>\n",
       "      <td>4024</td>\n",
       "      <td>32424</td>\n",
       "      <td>NaN</td>\n",
       "      <td>30107</td>\n",
       "      <td>10687</td>\n",
       "      <td>35232</td>\n",
       "      <td>1946</td>\n",
       "      <td>NaN</td>\n",
       "      <td>NaN</td>\n",
       "      <td>8</td>\n",
       "    </tr>\n",
       "    <tr>\n",
       "      <th>mean</th>\n",
       "      <td>NaN</td>\n",
       "      <td>NaN</td>\n",
       "      <td>NaN</td>\n",
       "      <td>NaN</td>\n",
       "      <td>NaN</td>\n",
       "      <td>NaN</td>\n",
       "      <td>NaN</td>\n",
       "      <td>2005.073280</td>\n",
       "      <td>NaN</td>\n",
       "      <td>116.355920</td>\n",
       "      <td>NaN</td>\n",
       "      <td>NaN</td>\n",
       "      <td>5.723360</td>\n",
       "      <td>NaN</td>\n",
       "      <td>NaN</td>\n",
       "      <td>NaN</td>\n",
       "      <td>NaN</td>\n",
       "      <td>0.0</td>\n",
       "      <td>50813.627300</td>\n",
       "      <td>NaN</td>\n",
       "    </tr>\n",
       "    <tr>\n",
       "      <th>std</th>\n",
       "      <td>NaN</td>\n",
       "      <td>NaN</td>\n",
       "      <td>NaN</td>\n",
       "      <td>NaN</td>\n",
       "      <td>NaN</td>\n",
       "      <td>NaN</td>\n",
       "      <td>NaN</td>\n",
       "      <td>105.712813</td>\n",
       "      <td>NaN</td>\n",
       "      <td>209.216627</td>\n",
       "      <td>NaN</td>\n",
       "      <td>NaN</td>\n",
       "      <td>3.711984</td>\n",
       "      <td>NaN</td>\n",
       "      <td>NaN</td>\n",
       "      <td>NaN</td>\n",
       "      <td>NaN</td>\n",
       "      <td>0.0</td>\n",
       "      <td>25779.747957</td>\n",
       "      <td>NaN</td>\n",
       "    </tr>\n",
       "    <tr>\n",
       "      <th>min</th>\n",
       "      <td>NaN</td>\n",
       "      <td>NaN</td>\n",
       "      <td>NaN</td>\n",
       "      <td>NaN</td>\n",
       "      <td>NaN</td>\n",
       "      <td>NaN</td>\n",
       "      <td>NaN</td>\n",
       "      <td>1000.000000</td>\n",
       "      <td>NaN</td>\n",
       "      <td>0.000000</td>\n",
       "      <td>NaN</td>\n",
       "      <td>NaN</td>\n",
       "      <td>0.000000</td>\n",
       "      <td>NaN</td>\n",
       "      <td>NaN</td>\n",
       "      <td>NaN</td>\n",
       "      <td>NaN</td>\n",
       "      <td>0.0</td>\n",
       "      <td>1067.000000</td>\n",
       "      <td>NaN</td>\n",
       "    </tr>\n",
       "    <tr>\n",
       "      <th>25%</th>\n",
       "      <td>NaN</td>\n",
       "      <td>NaN</td>\n",
       "      <td>NaN</td>\n",
       "      <td>NaN</td>\n",
       "      <td>NaN</td>\n",
       "      <td>NaN</td>\n",
       "      <td>NaN</td>\n",
       "      <td>1999.000000</td>\n",
       "      <td>NaN</td>\n",
       "      <td>70.000000</td>\n",
       "      <td>NaN</td>\n",
       "      <td>NaN</td>\n",
       "      <td>3.000000</td>\n",
       "      <td>NaN</td>\n",
       "      <td>NaN</td>\n",
       "      <td>NaN</td>\n",
       "      <td>NaN</td>\n",
       "      <td>0.0</td>\n",
       "      <td>30451.000000</td>\n",
       "      <td>NaN</td>\n",
       "    </tr>\n",
       "    <tr>\n",
       "      <th>50%</th>\n",
       "      <td>NaN</td>\n",
       "      <td>NaN</td>\n",
       "      <td>NaN</td>\n",
       "      <td>NaN</td>\n",
       "      <td>NaN</td>\n",
       "      <td>NaN</td>\n",
       "      <td>NaN</td>\n",
       "      <td>2003.000000</td>\n",
       "      <td>NaN</td>\n",
       "      <td>105.000000</td>\n",
       "      <td>NaN</td>\n",
       "      <td>NaN</td>\n",
       "      <td>6.000000</td>\n",
       "      <td>NaN</td>\n",
       "      <td>NaN</td>\n",
       "      <td>NaN</td>\n",
       "      <td>NaN</td>\n",
       "      <td>0.0</td>\n",
       "      <td>49577.000000</td>\n",
       "      <td>NaN</td>\n",
       "    </tr>\n",
       "    <tr>\n",
       "      <th>75%</th>\n",
       "      <td>NaN</td>\n",
       "      <td>NaN</td>\n",
       "      <td>NaN</td>\n",
       "      <td>NaN</td>\n",
       "      <td>NaN</td>\n",
       "      <td>NaN</td>\n",
       "      <td>NaN</td>\n",
       "      <td>2008.000000</td>\n",
       "      <td>NaN</td>\n",
       "      <td>150.000000</td>\n",
       "      <td>NaN</td>\n",
       "      <td>NaN</td>\n",
       "      <td>9.000000</td>\n",
       "      <td>NaN</td>\n",
       "      <td>NaN</td>\n",
       "      <td>NaN</td>\n",
       "      <td>NaN</td>\n",
       "      <td>0.0</td>\n",
       "      <td>71540.000000</td>\n",
       "      <td>NaN</td>\n",
       "    </tr>\n",
       "    <tr>\n",
       "      <th>max</th>\n",
       "      <td>NaN</td>\n",
       "      <td>NaN</td>\n",
       "      <td>NaN</td>\n",
       "      <td>NaN</td>\n",
       "      <td>NaN</td>\n",
       "      <td>NaN</td>\n",
       "      <td>NaN</td>\n",
       "      <td>9999.000000</td>\n",
       "      <td>NaN</td>\n",
       "      <td>17700.000000</td>\n",
       "      <td>NaN</td>\n",
       "      <td>NaN</td>\n",
       "      <td>12.000000</td>\n",
       "      <td>NaN</td>\n",
       "      <td>NaN</td>\n",
       "      <td>NaN</td>\n",
       "      <td>NaN</td>\n",
       "      <td>0.0</td>\n",
       "      <td>99998.000000</td>\n",
       "      <td>NaN</td>\n",
       "    </tr>\n",
       "  </tbody>\n",
       "</table>\n",
       "</div>"
      ],
      "text/plain": [
       "                dateCrawled         name  seller offerType  price abtest  \\\n",
       "count                 50000        50000   50000     50000  50000  50000   \n",
       "unique                48213        38754       2         2   2357      2   \n",
       "top     2016-04-02 11:37:04  Ford_Fiesta  privat   Angebot     $0   test   \n",
       "freq                      3           78   49999     49999   1421  25756   \n",
       "mean                    NaN          NaN     NaN       NaN    NaN    NaN   \n",
       "std                     NaN          NaN     NaN       NaN    NaN    NaN   \n",
       "min                     NaN          NaN     NaN       NaN    NaN    NaN   \n",
       "25%                     NaN          NaN     NaN       NaN    NaN    NaN   \n",
       "50%                     NaN          NaN     NaN       NaN    NaN    NaN   \n",
       "75%                     NaN          NaN     NaN       NaN    NaN    NaN   \n",
       "max                     NaN          NaN     NaN       NaN    NaN    NaN   \n",
       "\n",
       "       vehicleType  yearOfRegistration  gearbox       powerPS  model  \\\n",
       "count        44905        50000.000000    47320  50000.000000  47242   \n",
       "unique           8                 NaN        2           NaN    245   \n",
       "top      limousine                 NaN  manuell           NaN   golf   \n",
       "freq         12859                 NaN    36993           NaN   4024   \n",
       "mean           NaN         2005.073280      NaN    116.355920    NaN   \n",
       "std            NaN          105.712813      NaN    209.216627    NaN   \n",
       "min            NaN         1000.000000      NaN      0.000000    NaN   \n",
       "25%            NaN         1999.000000      NaN     70.000000    NaN   \n",
       "50%            NaN         2003.000000      NaN    105.000000    NaN   \n",
       "75%            NaN         2008.000000      NaN    150.000000    NaN   \n",
       "max            NaN         9999.000000      NaN  17700.000000    NaN   \n",
       "\n",
       "         odometer  monthOfRegistration fuelType       brand notRepairedDamage  \\\n",
       "count       50000         50000.000000    45518       50000             40171   \n",
       "unique         13                  NaN        7          40                 2   \n",
       "top     150,000km                  NaN   benzin  volkswagen              nein   \n",
       "freq        32424                  NaN    30107       10687             35232   \n",
       "mean          NaN             5.723360      NaN         NaN               NaN   \n",
       "std           NaN             3.711984      NaN         NaN               NaN   \n",
       "min           NaN             0.000000      NaN         NaN               NaN   \n",
       "25%           NaN             3.000000      NaN         NaN               NaN   \n",
       "50%           NaN             6.000000      NaN         NaN               NaN   \n",
       "75%           NaN             9.000000      NaN         NaN               NaN   \n",
       "max           NaN            12.000000      NaN         NaN               NaN   \n",
       "\n",
       "                dateCreated  nrOfPictures    postalCode             lastSeen  \n",
       "count                 50000       50000.0  50000.000000                50000  \n",
       "unique                   76           NaN           NaN                39481  \n",
       "top     2016-04-03 00:00:00           NaN           NaN  2016-04-07 06:17:27  \n",
       "freq                   1946           NaN           NaN                    8  \n",
       "mean                    NaN           0.0  50813.627300                  NaN  \n",
       "std                     NaN           0.0  25779.747957                  NaN  \n",
       "min                     NaN           0.0   1067.000000                  NaN  \n",
       "25%                     NaN           0.0  30451.000000                  NaN  \n",
       "50%                     NaN           0.0  49577.000000                  NaN  \n",
       "75%                     NaN           0.0  71540.000000                  NaN  \n",
       "max                     NaN           0.0  99998.000000                  NaN  "
      ]
     },
     "execution_count": 2,
     "metadata": {},
     "output_type": "execute_result"
    }
   ],
   "source": [
    "autos_raw = pd.read_csv('autos.csv', encoding = 'Latin-1') # default \"UTF-8\" was incompatible.\n",
    "autos = autos_raw.copy()\n",
    "autos.info()\n",
    "autos.describe(include = \"all\")"
   ]
  },
  {
   "cell_type": "markdown",
   "metadata": {},
   "source": [
    "Observations of the 20 columns in the dataset:\n",
    "\n",
    "    15 are object columns (presumably string types), 5 are integer columns\n",
    "    5 columns contain null values, but no more than ~20%\n",
    "    Some of the column labels are in camelcase instead of Python's preferred snakecase\n",
    "    Two columns, *price* and *odometer* contain numeric data in text form\n",
    "    Three columns,*nrOfPictures, *seller* and *offer_type* contain > 99% of the same unique value\n",
    "Let's first work on the column labels."
   ]
  },
  {
   "cell_type": "markdown",
   "metadata": {},
   "source": [
    "## Cleaning and Exploration\n",
    "### Cleaning Column Names\n",
    "\n",
    "We will use the `.columns` attribute to make edits to the original labels by converting from camelcase to snakecase.\n",
    "\n",
    "Certain labels will also be altered to improve understanding and readability, eg. `monthOfRegistration` to `registration_month`.\n",
    "\n",
    "Let's take a look at the current column names."
   ]
  },
  {
   "cell_type": "code",
   "execution_count": 3,
   "metadata": {},
   "outputs": [
    {
     "name": "stdout",
     "output_type": "stream",
     "text": [
      "Index(['dateCrawled', 'name', 'seller', 'offerType', 'price', 'abtest',\n",
      "       'vehicleType', 'yearOfRegistration', 'gearbox', 'powerPS', 'model',\n",
      "       'odometer', 'monthOfRegistration', 'fuelType', 'brand',\n",
      "       'notRepairedDamage', 'dateCreated', 'nrOfPictures', 'postalCode',\n",
      "       'lastSeen'],\n",
      "      dtype='object')\n"
     ]
    }
   ],
   "source": [
    "print(autos.columns)"
   ]
  },
  {
   "cell_type": "markdown",
   "metadata": {},
   "source": [
    "We'll copy the array and make the changes mentioned above."
   ]
  },
  {
   "cell_type": "code",
   "execution_count": 4,
   "metadata": {},
   "outputs": [
    {
     "name": "stdout",
     "output_type": "stream",
     "text": [
      "Index(['crawl_start', 'name', 'seller', 'offer_type', 'price', 'abtest',\n",
      "       'vehicle_type', 'registration_year', 'gearbox', 'power_ps', 'model',\n",
      "       'odometer_km', 'registration_month', 'fuel_type', 'brand',\n",
      "       'unrepaired_damage', 'ad_created', 'num_pictures', 'postal_code',\n",
      "       'crawl_end'],\n",
      "      dtype='object')\n"
     ]
    }
   ],
   "source": [
    "autos.columns = ['crawl_start', 'name', 'seller', 'offer_type', 'price', 'abtest',\n",
    "       'vehicle_type', 'registration_year', 'gearbox', 'power_ps', 'model',\n",
    "       'odometer_km', 'registration_month', 'fuel_type', 'brand',\n",
    "       'unrepaired_damage', 'ad_created', 'num_pictures', 'postal_code',\n",
    "       'crawl_end']\n",
    "\n",
    "print(autos.columns)"
   ]
  },
  {
   "cell_type": "markdown",
   "metadata": {},
   "source": [
    "### **Flagging Columns for Removal**\n",
    "\n",
    "Now, let's take a closer look at the columns `seller`, `offer_type`, and `num_pictures`. "
   ]
  },
  {
   "cell_type": "code",
   "execution_count": 5,
   "metadata": {},
   "outputs": [
    {
     "data": {
      "text/html": [
       "<div>\n",
       "<style scoped>\n",
       "    .dataframe tbody tr th:only-of-type {\n",
       "        vertical-align: middle;\n",
       "    }\n",
       "\n",
       "    .dataframe tbody tr th {\n",
       "        vertical-align: top;\n",
       "    }\n",
       "\n",
       "    .dataframe thead th {\n",
       "        text-align: right;\n",
       "    }\n",
       "</style>\n",
       "<table border=\"1\" class=\"dataframe\">\n",
       "  <thead>\n",
       "    <tr style=\"text-align: right;\">\n",
       "      <th></th>\n",
       "      <th>seller</th>\n",
       "      <th>offer_type</th>\n",
       "      <th>num_pictures</th>\n",
       "    </tr>\n",
       "  </thead>\n",
       "  <tbody>\n",
       "    <tr>\n",
       "      <th>count</th>\n",
       "      <td>50000</td>\n",
       "      <td>50000</td>\n",
       "      <td>50000.0</td>\n",
       "    </tr>\n",
       "    <tr>\n",
       "      <th>unique</th>\n",
       "      <td>2</td>\n",
       "      <td>2</td>\n",
       "      <td>NaN</td>\n",
       "    </tr>\n",
       "    <tr>\n",
       "      <th>top</th>\n",
       "      <td>privat</td>\n",
       "      <td>Angebot</td>\n",
       "      <td>NaN</td>\n",
       "    </tr>\n",
       "    <tr>\n",
       "      <th>freq</th>\n",
       "      <td>49999</td>\n",
       "      <td>49999</td>\n",
       "      <td>NaN</td>\n",
       "    </tr>\n",
       "    <tr>\n",
       "      <th>mean</th>\n",
       "      <td>NaN</td>\n",
       "      <td>NaN</td>\n",
       "      <td>0.0</td>\n",
       "    </tr>\n",
       "    <tr>\n",
       "      <th>std</th>\n",
       "      <td>NaN</td>\n",
       "      <td>NaN</td>\n",
       "      <td>0.0</td>\n",
       "    </tr>\n",
       "    <tr>\n",
       "      <th>min</th>\n",
       "      <td>NaN</td>\n",
       "      <td>NaN</td>\n",
       "      <td>0.0</td>\n",
       "    </tr>\n",
       "    <tr>\n",
       "      <th>25%</th>\n",
       "      <td>NaN</td>\n",
       "      <td>NaN</td>\n",
       "      <td>0.0</td>\n",
       "    </tr>\n",
       "    <tr>\n",
       "      <th>50%</th>\n",
       "      <td>NaN</td>\n",
       "      <td>NaN</td>\n",
       "      <td>0.0</td>\n",
       "    </tr>\n",
       "    <tr>\n",
       "      <th>75%</th>\n",
       "      <td>NaN</td>\n",
       "      <td>NaN</td>\n",
       "      <td>0.0</td>\n",
       "    </tr>\n",
       "    <tr>\n",
       "      <th>max</th>\n",
       "      <td>NaN</td>\n",
       "      <td>NaN</td>\n",
       "      <td>0.0</td>\n",
       "    </tr>\n",
       "  </tbody>\n",
       "</table>\n",
       "</div>"
      ],
      "text/plain": [
       "        seller offer_type  num_pictures\n",
       "count    50000      50000       50000.0\n",
       "unique       2          2           NaN\n",
       "top     privat    Angebot           NaN\n",
       "freq     49999      49999           NaN\n",
       "mean       NaN        NaN           0.0\n",
       "std        NaN        NaN           0.0\n",
       "min        NaN        NaN           0.0\n",
       "25%        NaN        NaN           0.0\n",
       "50%        NaN        NaN           0.0\n",
       "75%        NaN        NaN           0.0\n",
       "max        NaN        NaN           0.0"
      ]
     },
     "execution_count": 5,
     "metadata": {},
     "output_type": "execute_result"
    }
   ],
   "source": [
    "autos[['seller','offer_type','num_pictures']].describe(include = 'all')"
   ]
  },
  {
   "cell_type": "markdown",
   "metadata": {},
   "source": [
    "From the statistics above, we see that the columns `seller` and `offer_type` both contain a unique value with a frequency of 49,999 (of 50,000), which doesn't allow for any insightful comparison. \n",
    "\n",
    "Above, `.info()` showed that `num_pictures`  has 50,000 non-null values but the statistics here return 0s or NaN values. Let's understand why."
   ]
  },
  {
   "cell_type": "code",
   "execution_count": 6,
   "metadata": {},
   "outputs": [
    {
     "name": "stdout",
     "output_type": "stream",
     "text": [
      "The no. of rows is: 50,000\n",
      "The unique values are:  [0]\n"
     ]
    }
   ],
   "source": [
    "print(f\"The no. of rows is: {autos['num_pictures'].shape[0]:,}\")\n",
    "print(\"The unique values are: \",autos['num_pictures'].unique())"
   ]
  },
  {
   "cell_type": "markdown",
   "metadata": {},
   "source": [
    "`num_pictures` has 50,000 counts of the value 0. This is definitely not insightful and can be removed."
   ]
  },
  {
   "cell_type": "code",
   "execution_count": 7,
   "metadata": {},
   "outputs": [],
   "source": [
    "autos.drop(['seller','offer_type','num_pictures'], axis = 1, inplace = True)"
   ]
  },
  {
   "cell_type": "markdown",
   "metadata": {},
   "source": [
    "### **Cleaning and Converting Text Data**\n",
    "\n",
    "The columns `price` and `odometer_km` contain numeric data stored as text and we can clean and convert by:\n",
    "\n",
    "    1. Investigating both columns"
   ]
  },
  {
   "cell_type": "code",
   "execution_count": 8,
   "metadata": {
    "scrolled": true
   },
   "outputs": [
    {
     "name": "stdout",
     "output_type": "stream",
     "text": [
      "'Price' Sample:  \n",
      " 0    $5,000\n",
      "1    $8,500\n",
      "2    $8,990\n",
      "3    $4,350\n",
      "4    $1,350\n",
      "Name: price, dtype: object \n",
      "\n",
      "'Odometer' Sample:  \n",
      " 0    150,000km\n",
      "1    150,000km\n",
      "2     70,000km\n",
      "3     70,000km\n",
      "4    150,000km\n",
      "Name: odometer_km, dtype: object\n"
     ]
    }
   ],
   "source": [
    "print(\"'Price' Sample: \",\"\\n\", autos[\"price\"].head(),\"\\n\")\n",
    "print(\"'Odometer' Sample: \", \"\\n\", autos[\"odometer_km\"].head())"
   ]
  },
  {
   "cell_type": "markdown",
   "metadata": {},
   "source": [
    "    2. Removing any non-numeric characters: (,) from both columns, ($) from `price` and (km) from `odometer_km`.\n",
    "    3. Converting columns to a numeric dtype"
   ]
  },
  {
   "cell_type": "code",
   "execution_count": 9,
   "metadata": {},
   "outputs": [
    {
     "name": "stderr",
     "output_type": "stream",
     "text": [
      "C:\\Users\\Aaron\\AppData\\Local\\Temp\\ipykernel_5448\\1202278035.py:2: FutureWarning: The default value of regex will change from True to False in a future version. In addition, single character regular expressions will *not* be treated as literal strings when regex=True.\n",
      "  .str.replace(\"$\",\"\")\n"
     ]
    }
   ],
   "source": [
    "autos[\"price\"] = (autos[\"price\"]\n",
    "                    .str.replace(\"$\",\"\")\n",
    "                    .str.replace(\",\",\"\")\n",
    "                    .astype(int)\n",
    "                   )\n",
    "\n",
    "autos[\"odometer_km\"] = (autos[\"odometer_km\"]\n",
    "                    .str.replace(\"km\",\"\")\n",
    "                    .str.replace(\",\",\"\")\n",
    "                    .astype(int)\n",
    "                   )"
   ]
  },
  {
   "cell_type": "markdown",
   "metadata": {},
   "source": [
    "We investigate the columns to show that the dtype for both columns are int64, and a preview of the values indicate we removed the non-numeric characters."
   ]
  },
  {
   "cell_type": "code",
   "execution_count": 10,
   "metadata": {},
   "outputs": [
    {
     "name": "stdout",
     "output_type": "stream",
     "text": [
      "'Price' Sample:  \n",
      " 0    5000\n",
      "1    8500\n",
      "2    8990\n",
      "3    4350\n",
      "4    1350\n",
      "Name: price, dtype: int32 \n",
      "\n",
      "'Odometer' Sample:  \n",
      " 0    150000\n",
      "1    150000\n",
      "2     70000\n",
      "3     70000\n",
      "4    150000\n",
      "Name: odometer_km, dtype: int32\n"
     ]
    }
   ],
   "source": [
    "print(\"'Price' Sample: \",\"\\n\", autos[\"price\"].head(),\"\\n\")\n",
    "print(\"'Odometer' Sample: \", \"\\n\", autos[\"odometer_km\"].head())"
   ]
  },
  {
   "cell_type": "markdown",
   "metadata": {},
   "source": [
    "### **Exploring Outliers**\n",
    "\n",
    "Let's delve deeper into the data and gain insight into what doesn't look right.\n",
    "\n",
    "We'll continue our analysis with the columns we cleaned, `price` and `odometer_km`.\n",
    "\n",
    "### **`Price`**"
   ]
  },
  {
   "cell_type": "code",
   "execution_count": 11,
   "metadata": {},
   "outputs": [
    {
     "name": "stdout",
     "output_type": "stream",
     "text": [
      "Descriptive Statistics for Prices:  \n",
      " ------------------------------ \n",
      " count       50000.000000\n",
      "mean         9840.043760\n",
      "std        481104.380500\n",
      "min             0.000000\n",
      "25%          1100.000000\n",
      "50%          2950.000000\n",
      "75%          7200.000000\n",
      "max      99999999.000000\n",
      "Name: price, dtype: object \n",
      "\n",
      "Top Value Counts:  \n",
      " ------------------------------ \n",
      " 99999999    1\n",
      "27322222    1\n",
      "12345678    3\n",
      "11111111    2\n",
      "10000000    1\n",
      "Name: price, dtype: int64 \n",
      "\n",
      "Bottom Value Counts:  \n",
      " ------------------------------ \n",
      " 0    1421\n",
      "1     156\n",
      "2       3\n",
      "3       1\n",
      "5       2\n",
      "Name: price, dtype: int64 \n",
      "\n"
     ]
    }
   ],
   "source": [
    "prices = autos[\"price\"]\n",
    "\n",
    "print(\"Descriptive Statistics for Prices: \",\"\\n\",\"-\"*30,\"\\n\", prices.describe().apply(lambda x: format(x, 'f')),\"\\n\")\n",
    "print(\"Top Value Counts: \",\"\\n\",\"-\"*30,\"\\n\", prices.value_counts().sort_index(ascending = False).head(5), \"\\n\")\n",
    "print(\"Bottom Value Counts: \", \"\\n\",\"-\"*30,\"\\n\", prices.value_counts().sort_index(ascending = True).head(5), \"\\n\")"
   ]
  },
  {
   "cell_type": "markdown",
   "metadata": {},
   "source": [
    "The stats indicate a large price range with outliers skewing the data. The max value of `$99,999,999` is concerning when the median is at `$2,950`.\n",
    "\n",
    "There are 1,421 counts of the value `$0`, whereas some used cars are valued at several millions of dollars (possibly antique).\n",
    "\n",
    "Let's visualize this skew with a boxplot and extract the parameter \"caps\", where the upper and lower limit ends at the most extreme, **non-outlier** data points."
   ]
  },
  {
   "cell_type": "code",
   "execution_count": 12,
   "metadata": {},
   "outputs": [
    {
     "data": {
      "image/png": "[encoded data removed]",
      "text/plain": [
       "<Figure size 640x480 with 1 Axes>"
      ]
     },
     "metadata": {},
     "output_type": "display_data"
    },
    {
     "name": "stdout",
     "output_type": "stream",
     "text": [
      "Lower Extreme, Non-Outlier Limit:  0\n",
      "Upper Extreme, Non-Outlier Limit:  16350\n"
     ]
    }
   ],
   "source": [
    "%matplotlib inline\n",
    "plt.title(\"Prices with Outliers\")\n",
    "plt.ylabel(\"Prices ($)\", fontsize = 14)\n",
    "plt.ticklabel_format(axis = 'y', style = 'plain')\n",
    "\n",
    "stats = plt.boxplot(prices)\n",
    "plt.show()\n",
    "\n",
    "# Extracts the mapping dictionary that is returned when creating a boxplot\n",
    "results = {key : [v.get_data() for v in value] for key, value in stats.items()}\n",
    "\n",
    "# Prints the parameter \"caps\" from the above mapping dictionary\n",
    "print(\"Lower Extreme, Non-Outlier Limit: \",results['caps'][0][1][0])\n",
    "print(\"Upper Extreme, Non-Outlier Limit: \",results['caps'][1][1][0])"
   ]
  },
  {
   "cell_type": "markdown",
   "metadata": {},
   "source": [
    "We can see just how influential the outliers skew the data. \n",
    "\n",
    "The extreme, **non-outlier** limits returned from the boxplot are `$0` & `$16,350`. Recall that the max value is `$99,999,999`.\n",
    "\n",
    "Let's visualize the boxplot again with the outliers removed from the dataset."
   ]
  },
  {
   "cell_type": "code",
   "execution_count": 13,
   "metadata": {},
   "outputs": [
    {
     "data": {
      "image/png": "[encoded data removed]",
      "text/plain": [
       "<Figure size 640x480 with 1 Axes>"
      ]
     },
     "metadata": {},
     "output_type": "display_data"
    }
   ],
   "source": [
    "%matplotlib inline\n",
    "plt.boxplot(prices, showfliers = False)\n",
    "plt.title(\"Prices without Outliers\")\n",
    "plt.ylabel(\"Prices ($)\", fontsize = 14)\n",
    "plt.xlabel(\"Car Listings\", fontsize = 14)\n",
    "plt.tick_params(labelbottom = False)\n",
    "plt.show()"
   ]
  },
  {
   "cell_type": "markdown",
   "metadata": {},
   "source": [
    "Removing the outliers, we see a better distribution in the range of `$0` - `$16,350`.\n",
    "\n",
    "While this range provides a more representative distribution, the listings at `$0` could be detrimental to our analysis.\n",
    "\n",
    "Let's calculate the percentage of listings with the price of `$0` and those above `$16,350` and see if it safe to remove them."
   ]
  },
  {
   "cell_type": "code",
   "execution_count": 14,
   "metadata": {},
   "outputs": [
    {
     "name": "stdout",
     "output_type": "stream",
     "text": [
      "Prices at $0 account for 2.84% of the total prices.\n"
     ]
    }
   ],
   "source": [
    "num_0 = prices[prices == 0] # considers only prices at $0\n",
    "\n",
    "pct_0 = num_0.shape[0] / prices.shape[0] * 100\n",
    "\n",
    "print(f\"Prices at $0 account for {pct_0:.2f}% of the total prices.\")"
   ]
  },
  {
   "cell_type": "code",
   "execution_count": 15,
   "metadata": {},
   "outputs": [
    {
     "name": "stdout",
     "output_type": "stream",
     "text": [
      "Prices above $16,350 account for 7.57% of the total prices.\n"
     ]
    }
   ],
   "source": [
    "num_over = prices[prices > 16350] # considers only prices at $0\n",
    "\n",
    "pct_over = num_over.shape[0] / prices.shape[0] * 100\n",
    "\n",
    "print(f\"Prices above $16,350 account for {pct_over:.2f}% of the total prices.\")"
   ]
  },
  {
   "cell_type": "markdown",
   "metadata": {},
   "source": [
    "Of the 50,000 rows in the dataset, ~10% removal will provide a more focused distribution of the vehicles present in the car listings. \n",
    "\n",
    "Let us update the dataframe with the lower limit set to `$1` and the upper limit set to our extreme, non-outlier value of `$16,350` and print the new stats."
   ]
  },
  {
   "cell_type": "code",
   "execution_count": 16,
   "metadata": {},
   "outputs": [
    {
     "data": {
      "text/plain": [
       "count    44795.000000\n",
       "mean      4089.433620\n",
       "std       3841.429247\n",
       "min          1.000000\n",
       "25%       1150.000000\n",
       "50%       2700.000000\n",
       "75%       5999.000000\n",
       "max      16350.000000\n",
       "Name: price, dtype: float64"
      ]
     },
     "execution_count": 16,
     "metadata": {},
     "output_type": "execute_result"
    }
   ],
   "source": [
    "autos = autos[autos[\"price\"].between(1,16350)]\n",
    "autos['price'].describe()"
   ]
  },
  {
   "cell_type": "markdown",
   "metadata": {},
   "source": [
    "We can see that removing the outliers: \n",
    "\n",
    "    Decreased the standard deviation from roughly `$500,000` to `$4,000`. \n",
    "    \n",
    "    The `25th`, `50th` and `75th` percentiles are similar to our original values before cleanup. \n",
    "    \n",
    "    Our new upper limit becomes a better maximum as the `75th` percentile is at `$6,000`. \n",
    "\n",
    "Let us do the same analysis for the `odometer_km` column.\n",
    "\n",
    "### **`odometer_km`**"
   ]
  },
  {
   "cell_type": "code",
   "execution_count": 17,
   "metadata": {
    "scrolled": true
   },
   "outputs": [
    {
     "name": "stdout",
     "output_type": "stream",
     "text": [
      "Descriptive Statistics:  \n",
      " count     44795.000000\n",
      "mean     129762.361871\n",
      "std       36398.554742\n",
      "min        5000.000000\n",
      "25%      125000.000000\n",
      "50%      150000.000000\n",
      "75%      150000.000000\n",
      "max      150000.000000\n",
      "Name: odometer_km, dtype: float64 \n",
      "\n",
      "Counts:  \n",
      " 150000    30685\n",
      "125000     4722\n",
      "100000     1864\n",
      "90000      1503\n",
      "80000      1178\n",
      "70000       954\n",
      "60000       874\n",
      "50000       704\n",
      "40000       527\n",
      "30000       487\n",
      "20000       438\n",
      "10000       126\n",
      "5000        733\n",
      "Name: odometer_km, dtype: int64 \n",
      "\n"
     ]
    }
   ],
   "source": [
    "km = autos[\"odometer_km\"]\n",
    "print(\"Descriptive Statistics: \",\"\\n\", km.describe(),\"\\n\")\n",
    "print(\"Counts: \", \"\\n\", km.value_counts().sort_index(ascending = False), \"\\n\")"
   ]
  },
  {
   "cell_type": "markdown",
   "metadata": {},
   "source": [
    "The stats show that most of the data lies in the upper range of mileage as the median, 75th percentile and max have the same value of `150,000` km. The 25th percentile is at 125,000 which tell us the high mileage values are not outliers.\n",
    "\n",
    "Looking at the counts, our minimum is 5,000 km, which tracks as these are listings for used cars.\n",
    "\n",
    "No removal of data is necessary here.\n",
    "\n",
    "## Exploring the Date Columns\n",
    "Moving on to the date columns, we can begin by understanding the date range this dataset covers. \n",
    "\n",
    "Recall the five columns that contain date information\n",
    "\n",
    "`crawl_start` - When this ad was first crawled. All field-values are taken from this date.\n",
    "\n",
    "`ad_created` - The date on which the eBay listing was created.\n",
    "\n",
    "`crawl_end` - When the crawler saw this ad last online.\n",
    "\n",
    "`registration_year` - The year in which the car was first registered.\n",
    "\n",
    "`registration_month` - The month in which the car was first registered.\n",
    "\n",
    "The columns `registration_month` and `registration_year` are represented in numeric data, making extra processing unnecessary and series methods can be quickly applied. \n",
    "\n",
    "Let's start with exploring the former three columns. "
   ]
  },
  {
   "cell_type": "code",
   "execution_count": 18,
   "metadata": {},
   "outputs": [
    {
     "data": {
      "text/html": [
       "<div>\n",
       "<style scoped>\n",
       "    .dataframe tbody tr th:only-of-type {\n",
       "        vertical-align: middle;\n",
       "    }\n",
       "\n",
       "    .dataframe tbody tr th {\n",
       "        vertical-align: top;\n",
       "    }\n",
       "\n",
       "    .dataframe thead th {\n",
       "        text-align: right;\n",
       "    }\n",
       "</style>\n",
       "<table border=\"1\" class=\"dataframe\">\n",
       "  <thead>\n",
       "    <tr style=\"text-align: right;\">\n",
       "      <th></th>\n",
       "      <th>crawl_start</th>\n",
       "      <th>ad_created</th>\n",
       "      <th>crawl_end</th>\n",
       "    </tr>\n",
       "  </thead>\n",
       "  <tbody>\n",
       "    <tr>\n",
       "      <th>0</th>\n",
       "      <td>2016-03-26 17:47:46</td>\n",
       "      <td>2016-03-26 00:00:00</td>\n",
       "      <td>2016-04-06 06:45:54</td>\n",
       "    </tr>\n",
       "    <tr>\n",
       "      <th>1</th>\n",
       "      <td>2016-04-04 13:38:56</td>\n",
       "      <td>2016-04-04 00:00:00</td>\n",
       "      <td>2016-04-06 14:45:08</td>\n",
       "    </tr>\n",
       "    <tr>\n",
       "      <th>2</th>\n",
       "      <td>2016-03-26 18:57:24</td>\n",
       "      <td>2016-03-26 00:00:00</td>\n",
       "      <td>2016-04-06 20:15:37</td>\n",
       "    </tr>\n",
       "    <tr>\n",
       "      <th>3</th>\n",
       "      <td>2016-03-12 16:58:10</td>\n",
       "      <td>2016-03-12 00:00:00</td>\n",
       "      <td>2016-03-15 03:16:28</td>\n",
       "    </tr>\n",
       "    <tr>\n",
       "      <th>4</th>\n",
       "      <td>2016-04-01 14:38:50</td>\n",
       "      <td>2016-04-01 00:00:00</td>\n",
       "      <td>2016-04-01 14:38:50</td>\n",
       "    </tr>\n",
       "  </tbody>\n",
       "</table>\n",
       "</div>"
      ],
      "text/plain": [
       "           crawl_start           ad_created            crawl_end\n",
       "0  2016-03-26 17:47:46  2016-03-26 00:00:00  2016-04-06 06:45:54\n",
       "1  2016-04-04 13:38:56  2016-04-04 00:00:00  2016-04-06 14:45:08\n",
       "2  2016-03-26 18:57:24  2016-03-26 00:00:00  2016-04-06 20:15:37\n",
       "3  2016-03-12 16:58:10  2016-03-12 00:00:00  2016-03-15 03:16:28\n",
       "4  2016-04-01 14:38:50  2016-04-01 00:00:00  2016-04-01 14:38:50"
      ]
     },
     "execution_count": 18,
     "metadata": {},
     "output_type": "execute_result"
    }
   ],
   "source": [
    "autos[[\"crawl_start\", \"ad_created\",\"crawl_end\"]].head()"
   ]
  },
  {
   "cell_type": "markdown",
   "metadata": {},
   "source": [
    "We observe that the first 10 characters of each column contain the date, eg. `2016-03-26`. \n",
    "\n",
    "Let's extract the date using `Series.str[:10]`.\n",
    "\n",
    "The date values can then be counted, sorted and plotted to generate a distribution."
   ]
  },
  {
   "cell_type": "markdown",
   "metadata": {},
   "source": [
    "### **`crawl_start`**"
   ]
  },
  {
   "cell_type": "code",
   "execution_count": 19,
   "metadata": {
    "scrolled": true
   },
   "outputs": [],
   "source": [
    "crawl_start = (autos[\"crawl_start\"]\n",
    "                        .str[:10] # extracts the first 10 characters from the string value\n",
    "                        .value_counts(normalize = True, dropna = False)\n",
    "                        .sort_index(ascending = True)\n",
    "                       )"
   ]
  },
  {
   "cell_type": "code",
   "execution_count": 20,
   "metadata": {
    "scrolled": true
   },
   "outputs": [
    {
     "data": {
      "image/png": "[encoded data removed]",
      "text/plain": [
       "<Figure size 700x200 with 1 Axes>"
      ]
     },
     "metadata": {},
     "output_type": "display_data"
    }
   ],
   "source": [
    "%matplotlib inline\n",
    "\n",
    "plt.figure(figsize = (7,2))\n",
    "plt.plot(crawl_start)# Line chart is used to evaulate the time series and frequency\n",
    "plt.title(\"Ads Crawled per Day\")\n",
    "plt.ylabel(\"Frequency Normalized\")\n",
    "plt.xticks(rotation=90)\n",
    "plt.xlabel(\"Date\")\n",
    "plt.show()"
   ]
  },
  {
   "cell_type": "markdown",
   "metadata": {},
   "source": [
    "The graph shows information was collected from March 5 - April 7, 2016, a span of 34 days.\n",
    "\n",
    "The first three noticable drops are observed during March (6th, 13th, 18th) which occurs during the weekend. \n",
    "\n",
    "The last drop occurs in the first few days of April, but overall there seems to be an even distribution."
   ]
  },
  {
   "cell_type": "markdown",
   "metadata": {},
   "source": [
    "### **`ad_created`**"
   ]
  },
  {
   "cell_type": "code",
   "execution_count": 21,
   "metadata": {},
   "outputs": [],
   "source": [
    "ad_created = (autos[\"ad_created\"]\n",
    "                        .str[:10]\n",
    "                        .value_counts(normalize = True, dropna = False)\n",
    "                        .sort_index(ascending = True)\n",
    "                       )"
   ]
  },
  {
   "cell_type": "code",
   "execution_count": 22,
   "metadata": {
    "scrolled": false
   },
   "outputs": [
    {
     "data": {
      "image/png": "[encoded data removed]",
      "text/plain": [
       "<Figure size 700x200 with 1 Axes>"
      ]
     },
     "metadata": {},
     "output_type": "display_data"
    }
   ],
   "source": [
    "%matplotlib inline\n",
    "\n",
    "plt.figure(figsize = (7,2))\n",
    "plt.plot(ad_created)\n",
    "plt.title(\"Ad Created\")\n",
    "plt.ylabel(\"Frequency Normalized\")\n",
    "plt.xticks(ad_created.index[::4],rotation=90)\n",
    "plt.xlabel(\"Date\")\n",
    "plt.show()"
   ]
  },
  {
   "cell_type": "markdown",
   "metadata": {},
   "source": [
    "The range shows the dataset covers listings from as early as August 2015 to April 2016. \n",
    "\n",
    "Incidentally, the increase in ads created at the beginning of March 2016 follows closely to when the Crawler began collecting the ad information."
   ]
  },
  {
   "cell_type": "markdown",
   "metadata": {},
   "source": [
    "### **`crawl_end`**"
   ]
  },
  {
   "cell_type": "code",
   "execution_count": 23,
   "metadata": {},
   "outputs": [],
   "source": [
    "crawl_end = (autos[\"crawl_end\"]\n",
    "                        .str[:10]\n",
    "                        .value_counts(normalize = True, dropna = False)\n",
    "                        .sort_index(ascending = True)\n",
    "                       )"
   ]
  },
  {
   "cell_type": "code",
   "execution_count": 24,
   "metadata": {
    "scrolled": true
   },
   "outputs": [
    {
     "data": {
      "image/png": "[encoded data removed]",
      "text/plain": [
       "<Figure size 700x200 with 1 Axes>"
      ]
     },
     "metadata": {},
     "output_type": "display_data"
    }
   ],
   "source": [
    "%matplotlib inline\n",
    "\n",
    "plt.figure(figsize = (7, 2))\n",
    "plt.plot(crawl_end)\n",
    "plt.title(\"Frequency of Last Ad Crawl\")\n",
    "plt.ylabel(\"Frequency Normalized\")\n",
    "plt.xticks(rotation=90)\n",
    "plt.xlabel(\"Date\")\n",
    "plt.show()"
   ]
  },
  {
   "cell_type": "markdown",
   "metadata": {},
   "source": [
    "This column also shows 34 unique dates, similar to `crawl_start`. (The crawler also added the last seen information.)\n",
    "\n",
    "A uniform distribution is shown until the last few days in the range, where a noticable increase in ads closed."
   ]
  },
  {
   "cell_type": "markdown",
   "metadata": {},
   "source": [
    "### **`registration_year`**\n",
    "\n",
    "Let us quickly analyze the `registration_year` column since it is already in numeric form. \n",
    "\n",
    "Applying `.describe()` we notice that min and max values are of concern."
   ]
  },
  {
   "cell_type": "code",
   "execution_count": 25,
   "metadata": {},
   "outputs": [
    {
     "data": {
      "text/plain": [
       "count    44795.00000\n",
       "mean      2003.97339\n",
       "std         74.81955\n",
       "min       1000.00000\n",
       "25%       1999.00000\n",
       "50%       2003.00000\n",
       "75%       2007.00000\n",
       "max       9999.00000\n",
       "Name: registration_year, dtype: float64"
      ]
     },
     "execution_count": 25,
     "metadata": {},
     "output_type": "execute_result"
    }
   ],
   "source": [
    "autos[\"registration_year\"].describe()"
   ]
  },
  {
   "cell_type": "markdown",
   "metadata": {},
   "source": [
    "**Observations**\n",
    "\n",
    "Cars were invented around the 1900s, a good 900 years after the min value 1000. The max value, 9999, is far into the future.\n",
    "\n",
    "The date range contains listings up to the year 2016, and as a car can't first be registered after its listing is seen, any year past 2016 is inaccurate.\n",
    "\n",
    "Finding the earliest year proves challenging as it can be in any the first few decades of the 1900s.\n",
    "\n",
    "Let's count the number of listings with cars that fall outside the 1900 - 2016 interval and see if it's safe to remove those rows entirely, or if we need more custom logic."
   ]
  },
  {
   "cell_type": "code",
   "execution_count": 26,
   "metadata": {},
   "outputs": [
    {
     "name": "stdout",
     "output_type": "stream",
     "text": [
      "4.10% of the dataset lies outside the 1987-2016 range.\n"
     ]
    }
   ],
   "source": [
    "year_outliers = autos[~autos[\"registration_year\"].between(1900,2016)]\n",
    "pct_year_outliers = year_outliers.shape[0] / autos[\"registration_year\"].shape[0] * 100\n",
    "print(f\"{pct_year_outliers:.2f}% of the dataset lies outside the 1987-2016 range.\")"
   ]
  },
  {
   "cell_type": "markdown",
   "metadata": {},
   "source": [
    "This can be safely removed from the dataset. "
   ]
  },
  {
   "cell_type": "code",
   "execution_count": 27,
   "metadata": {},
   "outputs": [],
   "source": [
    "autos = autos[autos[\"registration_year\"].between(1900,2016)]"
   ]
  },
  {
   "cell_type": "markdown",
   "metadata": {},
   "source": [
    "### **`registration_month`**"
   ]
  },
  {
   "cell_type": "code",
   "execution_count": 28,
   "metadata": {},
   "outputs": [
    {
     "name": "stdout",
     "output_type": "stream",
     "text": [
      "Month Counts:  \n",
      " 0     3967\n",
      "1     2825\n",
      "2     2599\n",
      "3     4438\n",
      "4     3559\n",
      "5     3583\n",
      "6     3758\n",
      "7     3337\n",
      "8     2772\n",
      "9     2948\n",
      "10    3219\n",
      "11    2926\n",
      "12    3028\n",
      "Name: registration_month, dtype: int64\n"
     ]
    }
   ],
   "source": [
    "print(\"Month Counts: \",\"\\n\", autos['registration_month'].value_counts().sort_index())"
   ]
  },
  {
   "cell_type": "markdown",
   "metadata": {},
   "source": [
    "**Observations:**\n",
    "\n",
    "Presumably, the min value 0 corresponds to January, where the max value should be 11 to denote December.\n",
    "\n",
    "However, we see that the max value is 12, giving us 13 unique indexes.\n",
    "\n",
    "The counts for each month are distributed quite evenly, making it hard to remove one month in favor of the others.\n",
    "\n",
    "Moreover, it is unclear whether 0 or 1 can be attributed to January.\n",
    "\n",
    "We will drop this column to not compromise our data analysis."
   ]
  },
  {
   "cell_type": "code",
   "execution_count": 29,
   "metadata": {},
   "outputs": [],
   "source": [
    "autos.drop(\"registration_month\", axis = 1, inplace = True)"
   ]
  },
  {
   "cell_type": "markdown",
   "metadata": {},
   "source": [
    "After the cleanup process, let's get a look at our dataset before moving forward with analysis"
   ]
  },
  {
   "cell_type": "code",
   "execution_count": 30,
   "metadata": {},
   "outputs": [
    {
     "name": "stdout",
     "output_type": "stream",
     "text": [
      "<class 'pandas.core.frame.DataFrame'>\n",
      "Int64Index: 42959 entries, 0 to 49999\n",
      "Data columns (total 16 columns):\n",
      " #   Column             Non-Null Count  Dtype \n",
      "---  ------             --------------  ----- \n",
      " 0   crawl_start        42959 non-null  object\n",
      " 1   name               42959 non-null  object\n",
      " 2   price              42959 non-null  int32 \n",
      " 3   abtest             42959 non-null  object\n",
      " 4   vehicle_type       40302 non-null  object\n",
      " 5   registration_year  42959 non-null  int64 \n",
      " 6   gearbox            40913 non-null  object\n",
      " 7   power_ps           42959 non-null  int64 \n",
      " 8   model              40894 non-null  object\n",
      " 9   odometer_km        42959 non-null  int32 \n",
      " 10  fuel_type          39725 non-null  object\n",
      " 11  brand              42959 non-null  object\n",
      " 12  unrepaired_damage  34847 non-null  object\n",
      " 13  ad_created         42959 non-null  object\n",
      " 14  postal_code        42959 non-null  int64 \n",
      " 15  crawl_end          42959 non-null  object\n",
      "dtypes: int32(2), int64(3), object(11)\n",
      "memory usage: 5.2+ MB\n"
     ]
    },
    {
     "data": {
      "text/html": [
       "<div>\n",
       "<style scoped>\n",
       "    .dataframe tbody tr th:only-of-type {\n",
       "        vertical-align: middle;\n",
       "    }\n",
       "\n",
       "    .dataframe tbody tr th {\n",
       "        vertical-align: top;\n",
       "    }\n",
       "\n",
       "    .dataframe thead th {\n",
       "        text-align: right;\n",
       "    }\n",
       "</style>\n",
       "<table border=\"1\" class=\"dataframe\">\n",
       "  <thead>\n",
       "    <tr style=\"text-align: right;\">\n",
       "      <th></th>\n",
       "      <th>crawl_start</th>\n",
       "      <th>name</th>\n",
       "      <th>price</th>\n",
       "      <th>abtest</th>\n",
       "      <th>vehicle_type</th>\n",
       "      <th>registration_year</th>\n",
       "      <th>gearbox</th>\n",
       "      <th>power_ps</th>\n",
       "      <th>model</th>\n",
       "      <th>odometer_km</th>\n",
       "      <th>fuel_type</th>\n",
       "      <th>brand</th>\n",
       "      <th>unrepaired_damage</th>\n",
       "      <th>ad_created</th>\n",
       "      <th>postal_code</th>\n",
       "      <th>crawl_end</th>\n",
       "    </tr>\n",
       "  </thead>\n",
       "  <tbody>\n",
       "    <tr>\n",
       "      <th>count</th>\n",
       "      <td>42959</td>\n",
       "      <td>42959</td>\n",
       "      <td>42959.000000</td>\n",
       "      <td>42959</td>\n",
       "      <td>40302</td>\n",
       "      <td>42959.000000</td>\n",
       "      <td>40913</td>\n",
       "      <td>42959.000000</td>\n",
       "      <td>40894</td>\n",
       "      <td>42959.000000</td>\n",
       "      <td>39725</td>\n",
       "      <td>42959</td>\n",
       "      <td>34847</td>\n",
       "      <td>42959</td>\n",
       "      <td>42959.000000</td>\n",
       "      <td>42959</td>\n",
       "    </tr>\n",
       "    <tr>\n",
       "      <th>unique</th>\n",
       "      <td>41635</td>\n",
       "      <td>32895</td>\n",
       "      <td>NaN</td>\n",
       "      <td>2</td>\n",
       "      <td>8</td>\n",
       "      <td>NaN</td>\n",
       "      <td>2</td>\n",
       "      <td>NaN</td>\n",
       "      <td>239</td>\n",
       "      <td>NaN</td>\n",
       "      <td>7</td>\n",
       "      <td>40</td>\n",
       "      <td>2</td>\n",
       "      <td>71</td>\n",
       "      <td>NaN</td>\n",
       "      <td>35144</td>\n",
       "    </tr>\n",
       "    <tr>\n",
       "      <th>top</th>\n",
       "      <td>2016-03-22 09:51:06</td>\n",
       "      <td>Volkswagen_Golf_1.4</td>\n",
       "      <td>NaN</td>\n",
       "      <td>test</td>\n",
       "      <td>limousine</td>\n",
       "      <td>NaN</td>\n",
       "      <td>manuell</td>\n",
       "      <td>NaN</td>\n",
       "      <td>golf</td>\n",
       "      <td>NaN</td>\n",
       "      <td>benzin</td>\n",
       "      <td>volkswagen</td>\n",
       "      <td>nein</td>\n",
       "      <td>2016-04-03 00:00:00</td>\n",
       "      <td>NaN</td>\n",
       "      <td>2016-04-07 06:17:27</td>\n",
       "    </tr>\n",
       "    <tr>\n",
       "      <th>freq</th>\n",
       "      <td>3</td>\n",
       "      <td>75</td>\n",
       "      <td>NaN</td>\n",
       "      <td>22157</td>\n",
       "      <td>11620</td>\n",
       "      <td>NaN</td>\n",
       "      <td>33225</td>\n",
       "      <td>NaN</td>\n",
       "      <td>3487</td>\n",
       "      <td>NaN</td>\n",
       "      <td>26866</td>\n",
       "      <td>9226</td>\n",
       "      <td>30361</td>\n",
       "      <td>1675</td>\n",
       "      <td>NaN</td>\n",
       "      <td>8</td>\n",
       "    </tr>\n",
       "    <tr>\n",
       "      <th>mean</th>\n",
       "      <td>NaN</td>\n",
       "      <td>NaN</td>\n",
       "      <td>4129.176680</td>\n",
       "      <td>NaN</td>\n",
       "      <td>NaN</td>\n",
       "      <td>2002.395191</td>\n",
       "      <td>NaN</td>\n",
       "      <td>109.872925</td>\n",
       "      <td>NaN</td>\n",
       "      <td>129684.582974</td>\n",
       "      <td>NaN</td>\n",
       "      <td>NaN</td>\n",
       "      <td>NaN</td>\n",
       "      <td>NaN</td>\n",
       "      <td>50613.600549</td>\n",
       "      <td>NaN</td>\n",
       "    </tr>\n",
       "    <tr>\n",
       "      <th>std</th>\n",
       "      <td>NaN</td>\n",
       "      <td>NaN</td>\n",
       "      <td>3863.748169</td>\n",
       "      <td>NaN</td>\n",
       "      <td>NaN</td>\n",
       "      <td>6.750207</td>\n",
       "      <td>NaN</td>\n",
       "      <td>188.566039</td>\n",
       "      <td>NaN</td>\n",
       "      <td>36385.094333</td>\n",
       "      <td>NaN</td>\n",
       "      <td>NaN</td>\n",
       "      <td>NaN</td>\n",
       "      <td>NaN</td>\n",
       "      <td>25736.625285</td>\n",
       "      <td>NaN</td>\n",
       "    </tr>\n",
       "    <tr>\n",
       "      <th>min</th>\n",
       "      <td>NaN</td>\n",
       "      <td>NaN</td>\n",
       "      <td>1.000000</td>\n",
       "      <td>NaN</td>\n",
       "      <td>NaN</td>\n",
       "      <td>1910.000000</td>\n",
       "      <td>NaN</td>\n",
       "      <td>0.000000</td>\n",
       "      <td>NaN</td>\n",
       "      <td>5000.000000</td>\n",
       "      <td>NaN</td>\n",
       "      <td>NaN</td>\n",
       "      <td>NaN</td>\n",
       "      <td>NaN</td>\n",
       "      <td>1067.000000</td>\n",
       "      <td>NaN</td>\n",
       "    </tr>\n",
       "    <tr>\n",
       "      <th>25%</th>\n",
       "      <td>NaN</td>\n",
       "      <td>NaN</td>\n",
       "      <td>1150.000000</td>\n",
       "      <td>NaN</td>\n",
       "      <td>NaN</td>\n",
       "      <td>1999.000000</td>\n",
       "      <td>NaN</td>\n",
       "      <td>69.000000</td>\n",
       "      <td>NaN</td>\n",
       "      <td>125000.000000</td>\n",
       "      <td>NaN</td>\n",
       "      <td>NaN</td>\n",
       "      <td>NaN</td>\n",
       "      <td>NaN</td>\n",
       "      <td>30165.000000</td>\n",
       "      <td>NaN</td>\n",
       "    </tr>\n",
       "    <tr>\n",
       "      <th>50%</th>\n",
       "      <td>NaN</td>\n",
       "      <td>NaN</td>\n",
       "      <td>2750.000000</td>\n",
       "      <td>NaN</td>\n",
       "      <td>NaN</td>\n",
       "      <td>2003.000000</td>\n",
       "      <td>NaN</td>\n",
       "      <td>105.000000</td>\n",
       "      <td>NaN</td>\n",
       "      <td>150000.000000</td>\n",
       "      <td>NaN</td>\n",
       "      <td>NaN</td>\n",
       "      <td>NaN</td>\n",
       "      <td>NaN</td>\n",
       "      <td>49453.000000</td>\n",
       "      <td>NaN</td>\n",
       "    </tr>\n",
       "    <tr>\n",
       "      <th>75%</th>\n",
       "      <td>NaN</td>\n",
       "      <td>NaN</td>\n",
       "      <td>6000.000000</td>\n",
       "      <td>NaN</td>\n",
       "      <td>NaN</td>\n",
       "      <td>2007.000000</td>\n",
       "      <td>NaN</td>\n",
       "      <td>140.000000</td>\n",
       "      <td>NaN</td>\n",
       "      <td>150000.000000</td>\n",
       "      <td>NaN</td>\n",
       "      <td>NaN</td>\n",
       "      <td>NaN</td>\n",
       "      <td>NaN</td>\n",
       "      <td>71144.000000</td>\n",
       "      <td>NaN</td>\n",
       "    </tr>\n",
       "    <tr>\n",
       "      <th>max</th>\n",
       "      <td>NaN</td>\n",
       "      <td>NaN</td>\n",
       "      <td>16350.000000</td>\n",
       "      <td>NaN</td>\n",
       "      <td>NaN</td>\n",
       "      <td>2016.000000</td>\n",
       "      <td>NaN</td>\n",
       "      <td>17700.000000</td>\n",
       "      <td>NaN</td>\n",
       "      <td>150000.000000</td>\n",
       "      <td>NaN</td>\n",
       "      <td>NaN</td>\n",
       "      <td>NaN</td>\n",
       "      <td>NaN</td>\n",
       "      <td>99998.000000</td>\n",
       "      <td>NaN</td>\n",
       "    </tr>\n",
       "  </tbody>\n",
       "</table>\n",
       "</div>"
      ],
      "text/plain": [
       "                crawl_start                 name         price abtest  \\\n",
       "count                 42959                42959  42959.000000  42959   \n",
       "unique                41635                32895           NaN      2   \n",
       "top     2016-03-22 09:51:06  Volkswagen_Golf_1.4           NaN   test   \n",
       "freq                      3                   75           NaN  22157   \n",
       "mean                    NaN                  NaN   4129.176680    NaN   \n",
       "std                     NaN                  NaN   3863.748169    NaN   \n",
       "min                     NaN                  NaN      1.000000    NaN   \n",
       "25%                     NaN                  NaN   1150.000000    NaN   \n",
       "50%                     NaN                  NaN   2750.000000    NaN   \n",
       "75%                     NaN                  NaN   6000.000000    NaN   \n",
       "max                     NaN                  NaN  16350.000000    NaN   \n",
       "\n",
       "       vehicle_type  registration_year  gearbox      power_ps  model  \\\n",
       "count         40302       42959.000000    40913  42959.000000  40894   \n",
       "unique            8                NaN        2           NaN    239   \n",
       "top       limousine                NaN  manuell           NaN   golf   \n",
       "freq          11620                NaN    33225           NaN   3487   \n",
       "mean            NaN        2002.395191      NaN    109.872925    NaN   \n",
       "std             NaN           6.750207      NaN    188.566039    NaN   \n",
       "min             NaN        1910.000000      NaN      0.000000    NaN   \n",
       "25%             NaN        1999.000000      NaN     69.000000    NaN   \n",
       "50%             NaN        2003.000000      NaN    105.000000    NaN   \n",
       "75%             NaN        2007.000000      NaN    140.000000    NaN   \n",
       "max             NaN        2016.000000      NaN  17700.000000    NaN   \n",
       "\n",
       "          odometer_km fuel_type       brand unrepaired_damage  \\\n",
       "count    42959.000000     39725       42959             34847   \n",
       "unique            NaN         7          40                 2   \n",
       "top               NaN    benzin  volkswagen              nein   \n",
       "freq              NaN     26866        9226             30361   \n",
       "mean    129684.582974       NaN         NaN               NaN   \n",
       "std      36385.094333       NaN         NaN               NaN   \n",
       "min       5000.000000       NaN         NaN               NaN   \n",
       "25%     125000.000000       NaN         NaN               NaN   \n",
       "50%     150000.000000       NaN         NaN               NaN   \n",
       "75%     150000.000000       NaN         NaN               NaN   \n",
       "max     150000.000000       NaN         NaN               NaN   \n",
       "\n",
       "                 ad_created   postal_code            crawl_end  \n",
       "count                 42959  42959.000000                42959  \n",
       "unique                   71           NaN                35144  \n",
       "top     2016-04-03 00:00:00           NaN  2016-04-07 06:17:27  \n",
       "freq                   1675           NaN                    8  \n",
       "mean                    NaN  50613.600549                  NaN  \n",
       "std                     NaN  25736.625285                  NaN  \n",
       "min                     NaN   1067.000000                  NaN  \n",
       "25%                     NaN  30165.000000                  NaN  \n",
       "50%                     NaN  49453.000000                  NaN  \n",
       "75%                     NaN  71144.000000                  NaN  \n",
       "max                     NaN  99998.000000                  NaN  "
      ]
     },
     "execution_count": 30,
     "metadata": {},
     "output_type": "execute_result"
    }
   ],
   "source": [
    "autos.info()\n",
    "autos.describe(include = \"all\")"
   ]
  },
  {
   "cell_type": "markdown",
   "metadata": {},
   "source": [
    "Since the start, we have removed four columns and cleaned and converted two columns from object to int dtype. \n",
    "## Data Analysis\n",
    "### Exploring Price by Brand\n",
    "Let's identify the top 10 most common car brands for all listings and visualize the data."
   ]
  },
  {
   "cell_type": "code",
   "execution_count": 31,
   "metadata": {},
   "outputs": [
    {
     "name": "stdout",
     "output_type": "stream",
     "text": [
      "volkswagen       0.214763\n",
      "opel             0.115203\n",
      "bmw              0.103541\n",
      "mercedes_benz    0.088131\n",
      "audi             0.077562\n",
      "ford             0.073093\n",
      "renault          0.050769\n",
      "peugeot          0.032170\n",
      "fiat             0.027747\n",
      "seat             0.019088\n",
      "Name: brand, dtype: float64\n"
     ]
    }
   ],
   "source": [
    "brand_fq = autos[\"brand\"].value_counts(normalize = True).head(10) # returns proportion values\n",
    "print(brand_fq)"
   ]
  },
  {
   "cell_type": "code",
   "execution_count": 32,
   "metadata": {},
   "outputs": [
    {
     "data": {
      "image/png": "[encoded data removed]",
      "text/plain": [
       "<Figure size 640x480 with 1 Axes>"
      ]
     },
     "metadata": {},
     "output_type": "display_data"
    },
    {
     "name": "stdout",
     "output_type": "stream",
     "text": [
      "The top 10 brands comprise 80.21% of the total listings.\n"
     ]
    }
   ],
   "source": [
    "plt.barh(brand_fq.index, brand_fq.values*100)\n",
    "plt.title(\"German eBay: Top 10 Most Common Car Brands\")\n",
    "plt.xlabel(\"Percentage of Total Listings (%)\")\n",
    "plt.ylabel(\"Car Brands\")\n",
    "plt.show()\n",
    "\n",
    "top10_pct = brand_fq.sum()*100\n",
    "print(f\"The top 10 brands comprise {top10_pct:.2f}% of the total listings.\")"
   ]
  },
  {
   "cell_type": "markdown",
   "metadata": {},
   "source": [
    "**Observations**\n",
    "\n",
    "The most common brands in the listings are Volkswagen at 21%, followed by Opel, BMW and Mercedes Benz at 11.5%, 10.4%, and 9%, respectively. \n",
    "\n",
    "We will move forward with the car brands that are at least 5% of the total listings, which stops at Renault at 5.1% or the top 7 brands. \n",
    "\n",
    "Now let us aggregate the `brand` column by `price`, determining the average price per brand and visualize the data using a bar graph."
   ]
  },
  {
   "cell_type": "code",
   "execution_count": 33,
   "metadata": {},
   "outputs": [],
   "source": [
    "# Create empty dictionary to store average price results\n",
    "avg_brand_price = {}\n",
    "\n",
    "# Create an array of the top 7 unique brands\n",
    "brands = autos[\"brand\"].value_counts().head(7).index\n",
    "\n",
    "for b in brands:\n",
    "    # Use boolean comparison to select only the data that correspond to a specific brand\n",
    "    brand = autos[autos[\"brand\"] == b]\n",
    "    \n",
    "    # Calculate the mean price for just that brand\n",
    "    avg_price = brand[\"price\"].mean()\n",
    "    \n",
    "    # Assign the mean price as a value to the brand as a key\n",
    "    avg_brand_price[b] = int(avg_price) # Change to int to remove decimals"
   ]
  },
  {
   "cell_type": "code",
   "execution_count": 34,
   "metadata": {
    "scrolled": true
   },
   "outputs": [
    {
     "data": {
      "image/png": "[encoded data removed]",
      "text/plain": [
       "<Figure size 500x200 with 1 Axes>"
      ]
     },
     "metadata": {},
     "output_type": "display_data"
    }
   ],
   "source": [
    "# Convert the dictionary into a series using pd.Series() and plot\n",
    "avg_brand_price = pd.Series(avg_brand_price).sort_values(ascending = False)\n",
    "%matplotlib inline\n",
    "\n",
    "plt.figure(figsize = [5,2])\n",
    "plt.bar(avg_brand_price.index, avg_brand_price.values, edgecolor = \"black\")\n",
    "plt.title(\"German eBay: Average Prices for Top 10 Most Common Car Brands\")\n",
    "plt.xlabel(\"Brands\")\n",
    "plt.ylabel(\"Average Brand Price ($)\")\n",
    "plt.xticks(rotation = 55)\n",
    "plt.show()"
   ]
  },
  {
   "cell_type": "code",
   "execution_count": 35,
   "metadata": {
    "scrolled": true
   },
   "outputs": [
    {
     "name": "stdout",
     "output_type": "stream",
     "text": [
      "audi             5703\n",
      "bmw              5649\n",
      "mercedes_benz    5259\n",
      "volkswagen       4183\n",
      "ford             2944\n",
      "opel             2712\n",
      "renault          2281\n",
      "dtype: int64\n"
     ]
    }
   ],
   "source": [
    "print(avg_brand_price)"
   ]
  },
  {
   "cell_type": "markdown",
   "metadata": {},
   "source": [
    "**Observations**\n",
    "\n",
    "The German brands Audi, BMW and Mercedes seem to have the highest average prices, save for Opel, compared to American Ford and French Renault brands.\n",
    "\n",
    "Volkswagen again lies in the middle of the prices, offering a balance between popularity and price.\n",
    "\n",
    "### Exploring Mileage by Brand\n",
    "\n",
    "Let's do the same for *mileage* (`odometer_km`)."
   ]
  },
  {
   "cell_type": "code",
   "execution_count": 36,
   "metadata": {},
   "outputs": [],
   "source": [
    "# Create empty dictionary to store average price results\n",
    "avg_brand_km = {}\n",
    "\n",
    "for b in brands:\n",
    "    # Use boolean comparison to select only the data that correspond to a specific brand\n",
    "    brand = autos[autos[\"brand\"] == b]\n",
    "    \n",
    "    # Calculate the mean km for just that brand\n",
    "    avg_km = brand[\"odometer_km\"].mean()\n",
    "    \n",
    "    # Assign the mean km as a value to the brand as a key\n",
    "    avg_brand_km[b] = int(avg_km) # Change to int to remove decimals"
   ]
  },
  {
   "cell_type": "markdown",
   "metadata": {},
   "source": [
    "Above, we aggregated the average mileage for each brand.\n",
    "\n",
    "We would like to gain insight into whether the average distance travelled per brand affects the mean price for that brand. \n",
    "\n",
    "Rather than comparing two sets of aggregrated series, let's create a DataFrame for easier comparison."
   ]
  },
  {
   "cell_type": "code",
   "execution_count": 37,
   "metadata": {},
   "outputs": [
    {
     "data": {
      "text/html": [
       "<div>\n",
       "<style scoped>\n",
       "    .dataframe tbody tr th:only-of-type {\n",
       "        vertical-align: middle;\n",
       "    }\n",
       "\n",
       "    .dataframe tbody tr th {\n",
       "        vertical-align: top;\n",
       "    }\n",
       "\n",
       "    .dataframe thead th {\n",
       "        text-align: right;\n",
       "    }\n",
       "</style>\n",
       "<table border=\"1\" class=\"dataframe\">\n",
       "  <thead>\n",
       "    <tr style=\"text-align: right;\">\n",
       "      <th></th>\n",
       "      <th>mean_price</th>\n",
       "      <th>mean_km</th>\n",
       "    </tr>\n",
       "  </thead>\n",
       "  <tbody>\n",
       "    <tr>\n",
       "      <th>audi</th>\n",
       "      <td>5703</td>\n",
       "      <td>139701</td>\n",
       "    </tr>\n",
       "    <tr>\n",
       "      <th>bmw</th>\n",
       "      <td>5649</td>\n",
       "      <td>138833</td>\n",
       "    </tr>\n",
       "    <tr>\n",
       "      <th>mercedes_benz</th>\n",
       "      <td>5259</td>\n",
       "      <td>138411</td>\n",
       "    </tr>\n",
       "    <tr>\n",
       "      <th>volkswagen</th>\n",
       "      <td>4183</td>\n",
       "      <td>132813</td>\n",
       "    </tr>\n",
       "    <tr>\n",
       "      <th>ford</th>\n",
       "      <td>2944</td>\n",
       "      <td>127004</td>\n",
       "    </tr>\n",
       "    <tr>\n",
       "      <th>opel</th>\n",
       "      <td>2712</td>\n",
       "      <td>130500</td>\n",
       "    </tr>\n",
       "    <tr>\n",
       "      <th>renault</th>\n",
       "      <td>2281</td>\n",
       "      <td>128892</td>\n",
       "    </tr>\n",
       "  </tbody>\n",
       "</table>\n",
       "</div>"
      ],
      "text/plain": [
       "               mean_price  mean_km\n",
       "audi                 5703   139701\n",
       "bmw                  5649   138833\n",
       "mercedes_benz        5259   138411\n",
       "volkswagen           4183   132813\n",
       "ford                 2944   127004\n",
       "opel                 2712   130500\n",
       "renault              2281   128892"
      ]
     },
     "execution_count": 37,
     "metadata": {},
     "output_type": "execute_result"
    }
   ],
   "source": [
    "# Convert the km dictionary into a series using pd.Series()\n",
    "avg_brand_km = pd.Series(avg_brand_km).sort_values(ascending = False)\n",
    "\n",
    "# Create a dataframe with the aggregated series for prices, then assign mileage afterwards\n",
    "agg_df = pd.DataFrame(avg_brand_price, columns = [\"mean_price\"])\n",
    "agg_df[\"mean_km\"] = avg_brand_km\n",
    "agg_df"
   ]
  },
  {
   "cell_type": "markdown",
   "metadata": {},
   "source": [
    "**Observations**\n",
    "\n",
    "Unexpectedly, the brands with the most mileage are still the most expensive, while the cheaper cars have less mileage. Again, Volkswagen finds its balance between mileage and price."
   ]
  },
  {
   "cell_type": "markdown",
   "metadata": {},
   "source": [
    "    Analysis next steps:\n",
    "        Find the most common brand/model combinations\n",
    "        Split the odometer_km into groups, and use aggregation to see if average prices follows any patterns based on the mileage.\n",
    "        How much cheaper are cars with damage than their non-damaged counterparts?"
   ]
  },
  {
   "cell_type": "markdown",
   "metadata": {},
   "source": [
    "### Exploring Common Brand/Model Combinations\n",
    "We have already filtered the most common brands in the variable `brands`.\n",
    "\n",
    "We will begin to explore what models make up each brand."
   ]
  },
  {
   "cell_type": "code",
   "execution_count": 38,
   "metadata": {},
   "outputs": [],
   "source": [
    "combo = {}\n",
    "\n",
    "for b in brands:\n",
    "    # Use boolean comparison to select only the data that correspond to a specific brand\n",
    "    brand = autos[autos[\"brand\"] == b]\n",
    "    \n",
    "    # Find the counts of models for just that brand\n",
    "    models = brand[\"model\"].value_counts()\n",
    "    \n",
    "    # Assign the counts as a value to the brand as a key\n",
    "    combo[b] = (models)"
   ]
  },
  {
   "cell_type": "code",
   "execution_count": 39,
   "metadata": {},
   "outputs": [
    {
     "name": "stdout",
     "output_type": "stream",
     "text": [
      "{'volkswagen': golf           3487\n",
      "polo           1604\n",
      "passat         1299\n",
      "transporter     542\n",
      "touran          398\n",
      "lupo            322\n",
      "sharan          208\n",
      "caddy           189\n",
      "beetle          111\n",
      "bora            100\n",
      "andere           93\n",
      "fox              82\n",
      "touareg          68\n",
      "scirocco         66\n",
      "eos              60\n",
      "kaefer           52\n",
      "up               51\n",
      "tiguan           51\n",
      "jetta            38\n",
      "phaeton          23\n",
      "cc               10\n",
      "Name: model, dtype: int64, 'opel': corsa       1589\n",
      "astra       1339\n",
      "vectra       544\n",
      "zafira       392\n",
      "omega        181\n",
      "meriva       136\n",
      "andere       120\n",
      "tigra         91\n",
      "signum        68\n",
      "insignia      68\n",
      "agila         58\n",
      "combo         52\n",
      "vivaro        45\n",
      "kadett        44\n",
      "calibra       22\n",
      "antara        18\n",
      "Name: model, dtype: int64, 'bmw': 3er        2431\n",
      "5er         991\n",
      "1er         424\n",
      "x_reihe     143\n",
      "7er         110\n",
      "z_reihe      89\n",
      "andere       23\n",
      "6er          15\n",
      "m_reihe      10\n",
      "i3            1\n",
      "Name: model, dtype: int64, 'mercedes_benz': c_klasse    1005\n",
      "e_klasse     813\n",
      "a_klasse     506\n",
      "andere       361\n",
      "clk          234\n",
      "slk          130\n",
      "vito         109\n",
      "m_klasse     106\n",
      "b_klasse      97\n",
      "sprinter      90\n",
      "s_klasse      88\n",
      "sl            38\n",
      "cl            29\n",
      "viano         26\n",
      "v_klasse      21\n",
      "g_klasse      13\n",
      "Name: model, dtype: int64, 'audi': a4        1126\n",
      "a3         720\n",
      "a6         699\n",
      "80         198\n",
      "andere     111\n",
      "tt          98\n",
      "a1          59\n",
      "a8          59\n",
      "100         57\n",
      "a2          42\n",
      "a5          24\n",
      "q7          16\n",
      "90           8\n",
      "q5           5\n",
      "200          1\n",
      "Name: model, dtype: int64, 'ford': focus      747\n",
      "fiesta     718\n",
      "mondeo     473\n",
      "ka         349\n",
      "andere     178\n",
      "galaxy     154\n",
      "escort     103\n",
      "transit    102\n",
      "c_max       73\n",
      "s_max       44\n",
      "fusion      33\n",
      "mustang     20\n",
      "kuga        17\n",
      "b_max        1\n",
      "Name: model, dtype: int64, 'renault': twingo    615\n",
      "clio      469\n",
      "megane    330\n",
      "scenic    188\n",
      "laguna    176\n",
      "andere    109\n",
      "kangoo    102\n",
      "espace     83\n",
      "modus      29\n",
      "r19         9\n",
      "Name: model, dtype: int64}\n"
     ]
    }
   ],
   "source": [
    "print(combo)"
   ]
  },
  {
   "cell_type": "markdown",
   "metadata": {},
   "source": [
    "**Observations**\n",
    "\n",
    "Within the top brands, we get a list of the models that make up each brand's listing. \n",
    "\n",
    "The frequency table for each brand shows which models are the most common for each brand, eg. Mercedes-Benz C-Class, Ford Focus, Opel Corsa, Volkswagen Golf, etc. \n",
    "\n",
    "### Exploring Price by Unrepaired Damage\n",
    "\n",
    "Let's explore how unrepaired damage influences the price for these autombiles. \n",
    "\n",
    "We can compare average price per brands with and without damage."
   ]
  },
  {
   "cell_type": "code",
   "execution_count": 40,
   "metadata": {
    "scrolled": true
   },
   "outputs": [],
   "source": [
    "# Create empty dictionary to store average price results\n",
    "price_no_dmg = {}\n",
    "\n",
    "# Create an array of the top 7 unique brands\n",
    "\n",
    "for b in brands:\n",
    "    # Use boolean comparison to select only the data that correspond to a specific brand\n",
    "    brand = autos[(autos[\"brand\"] == b) & (autos[\"unrepaired_damage\"] == \"nein\")]\n",
    "    \n",
    "    # Calculate the mean price for just that brand\n",
    "    avg_price = brand[\"price\"].mean()\n",
    "    \n",
    "    # Assign the mean price as a value to the brand as a key\n",
    "    price_no_dmg[b] = int(avg_price) # Change to int to remove decimals"
   ]
  },
  {
   "cell_type": "code",
   "execution_count": 41,
   "metadata": {},
   "outputs": [],
   "source": [
    "# Create empty dictionary to store average price results\n",
    "price_w_dmg = {}\n",
    "\n",
    "# Create an array of the top 7 unique brands\n",
    "\n",
    "for b in brands:\n",
    "    # Use boolean comparison to select only the data that correspond to a specific brand\n",
    "    brand = autos[(autos[\"brand\"] == b) & (autos[\"unrepaired_damage\"] == \"ja\")]\n",
    "    \n",
    "    # Calculate the mean price for just that brand\n",
    "    avg_price = brand[\"price\"].mean()\n",
    "    \n",
    "    # Assign the mean price as a value to the brand as a key\n",
    "    price_w_dmg[b] = int(avg_price) # Change to int to remove decimals\n",
    "    \n",
    "price_w_dmg = pd.Series(price_w_dmg)"
   ]
  },
  {
   "cell_type": "code",
   "execution_count": 42,
   "metadata": {},
   "outputs": [],
   "source": [
    "# Creat a dataframe containing both series created from above for easier plotting\n",
    "\n",
    "dmg_df = pd.DataFrame(price_w_dmg, columns = [\"price_w_dmg\"])\n",
    "dmg_df[\"price_no_dmg\"] = price_no_dmg"
   ]
  },
  {
   "cell_type": "code",
   "execution_count": 43,
   "metadata": {},
   "outputs": [
    {
     "data": {
      "text/plain": [
       "<AxesSubplot: ylabel='Prices ($)'>"
      ]
     },
     "execution_count": 43,
     "metadata": {},
     "output_type": "execute_result"
    },
    {
     "data": {
      "image/png": "[encoded data removed]",
      "text/plain": [
       "<Figure size 640x480 with 1 Axes>"
      ]
     },
     "metadata": {},
     "output_type": "display_data"
    }
   ],
   "source": [
    "%matplotlib inline\n",
    "\n",
    "dmg_df.plot(kind = \"bar\", ylabel = \"Prices ($)\")"
   ]
  },
  {
   "cell_type": "markdown",
   "metadata": {},
   "source": [
    "**Observations**\n",
    "\n",
    "Expectedly, the prices reflect approximately x2 price decrease for vehicles with unrepaired damages."
   ]
  },
  {
   "cell_type": "markdown",
   "metadata": {},
   "source": [
    "# Conclusion\n",
    "The goal of this project was to clean and analyze a dataset of used cars.\n",
    "\n",
    "Our analysis involved removal of null values and numeric outliers, typecasting, string correction and other techniques to explore the German eBay classified auto listings.\n",
    "\n",
    "The influence of price, mileage and unrepaired damages are some of the insights uncovered with the clean dataset. \n",
    "\n",
    "Many more insights can be gained upon revisting the data, but for now this project provides an intermediate combination of data cleaning and exploration with visualization."
   ]
  }
 ],
 "metadata": {
  "kernelspec": {
   "display_name": "Python 3 (ipykernel)",
   "language": "python",
   "name": "python3"
  },
  "language_info": {
   "codemirror_mode": {
    "name": "ipython",
    "version": 3
   },
   "file_extension": ".py",
   "mimetype": "text/x-python",
   "name": "python",
   "nbconvert_exporter": "python",
   "pygments_lexer": "ipython3",
   "version": "3.11.0"
  }
 },
 "nbformat": 4,
 "nbformat_minor": 2
}
